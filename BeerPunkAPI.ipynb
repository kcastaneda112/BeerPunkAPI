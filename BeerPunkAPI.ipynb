{
 "cells": [
  {
   "cell_type": "code",
   "execution_count": 1,
   "metadata": {},
   "outputs": [],
   "source": [
    "# packages required \n",
    "import requests\n",
    "import json\n",
    "import numpy as np\n",
    "import pandas as pd\n",
    "import seaborn as sn\n",
    "import matplotlib.pyplot as plt"
   ]
  },
  {
   "cell_type": "code",
   "execution_count": 2,
   "metadata": {},
   "outputs": [],
   "source": [
    "# request access to obtain data from api\n",
    "response = requests.get('https://api.punkapi.com/v2/beers?page=2&per_page=80')"
   ]
  },
  {
   "cell_type": "code",
   "execution_count": 3,
   "metadata": {},
   "outputs": [],
   "source": [
    "# data will be in json format\n",
    "data = response.json()"
   ]
  },
  {
   "cell_type": "code",
   "execution_count": 4,
   "metadata": {
    "scrolled": true
   },
   "outputs": [
    {
     "data": {
      "text/plain": [
       "{'id': 82,\n",
       " 'name': 'Hopped-Up Brown Ale - Prototype Challenge',\n",
       " 'tagline': 'Malt Hop Balance.',\n",
       " 'first_brewed': '01/2016',\n",
       " 'description': 'Brown ales are perfect foils for resinous C-Hops, as the piney elements of the latter contrast brilliantly with the sweeter, nutty elements of the malt bill. The best of both worlds.',\n",
       " 'image_url': 'https://images.punkapi.com/v2/82.png',\n",
       " 'abv': 6.3,\n",
       " 'ibu': 85,\n",
       " 'target_fg': 1015,\n",
       " 'target_og': 1063,\n",
       " 'ebc': 24,\n",
       " 'srm': 12,\n",
       " 'ph': 4.2,\n",
       " 'attenuation_level': 82.6,\n",
       " 'volume': {'value': 20, 'unit': 'litres'},\n",
       " 'boil_volume': {'value': 25, 'unit': 'litres'},\n",
       " 'method': {'mash_temp': [{'temp': {'value': 65, 'unit': 'celsius'},\n",
       "    'duration': None}],\n",
       "  'fermentation': {'temp': {'value': 19, 'unit': 'celsius'}},\n",
       "  'twist': None},\n",
       " 'ingredients': {'malt': [{'name': 'Extra Pale',\n",
       "    'amount': {'value': 4, 'unit': 'kilograms'}},\n",
       "   {'name': 'Flaked Oats', 'amount': {'value': 0.75, 'unit': 'kilograms'}},\n",
       "   {'name': 'Brown', 'amount': {'value': 0.38, 'unit': 'kilograms'}},\n",
       "   {'name': 'Crystal 150', 'amount': {'value': 0.25, 'unit': 'kilograms'}},\n",
       "   {'name': 'Munich', 'amount': {'value': 0.5, 'unit': 'kilograms'}},\n",
       "   {'name': 'Carafa Special Malt Type 1',\n",
       "    'amount': {'value': 0.06, 'unit': 'kilograms'}}],\n",
       "  'hops': [{'name': 'Columbus',\n",
       "    'amount': {'value': 47, 'unit': 'grams'},\n",
       "    'add': 'start',\n",
       "    'attribute': 'bitter'},\n",
       "   {'name': 'Simcoe',\n",
       "    'amount': {'value': 25, 'unit': 'grams'},\n",
       "    'add': 'end',\n",
       "    'attribute': 'flavour'},\n",
       "   {'name': 'Centennial',\n",
       "    'amount': {'value': 25, 'unit': 'grams'},\n",
       "    'add': 'end',\n",
       "    'attribute': 'flavour'},\n",
       "   {'name': 'Columbus',\n",
       "    'amount': {'value': 25, 'unit': 'grams'},\n",
       "    'add': 'dry hop',\n",
       "    'attribute': 'aroma'},\n",
       "   {'name': 'Simcoe',\n",
       "    'amount': {'value': 37.5, 'unit': 'grams'},\n",
       "    'add': 'dry hop',\n",
       "    'attribute': 'aroma'},\n",
       "   {'name': 'Citra',\n",
       "    'amount': {'value': 12.5, 'unit': 'grams'},\n",
       "    'add': 'FV',\n",
       "    'attribute': 'aroma'}],\n",
       "  'yeast': 'Wyeast 1056 - American Ale™'},\n",
       " 'food_pairing': ['Butternut squash and sage soup',\n",
       "  'Roast beef and horseradish sandwich',\n",
       "  'Fudge'],\n",
       " 'brewers_tips': 'High carbonate water will really accent the malt notes to better balance the punchy hops.',\n",
       " 'contributed_by': 'Sam Mason <samjbmason>'}"
      ]
     },
     "execution_count": 4,
     "metadata": {},
     "output_type": "execute_result"
    }
   ],
   "source": [
    "# view the second list of the data\n",
    "# starting point is 0 (first list), hence 1 (second list)\n",
    "data[1]"
   ]
  },
  {
   "cell_type": "code",
   "execution_count": 5,
   "metadata": {},
   "outputs": [
    {
     "name": "stdout",
     "output_type": "stream",
     "text": [
      "id\n",
      "name\n",
      "tagline\n",
      "first_brewed\n",
      "description\n",
      "image_url\n",
      "abv\n",
      "ibu\n",
      "target_fg\n",
      "target_og\n",
      "ebc\n",
      "srm\n",
      "ph\n",
      "attenuation_level\n",
      "volume\n",
      "boil_volume\n",
      "method\n",
      "ingredients\n",
      "food_pairing\n",
      "brewers_tips\n",
      "contributed_by\n"
     ]
    }
   ],
   "source": [
    "# check the keys for dictionary\n",
    "# can also check the values by changing keys to values\n",
    "# can also check key and values by change keys to items\n",
    "for key in data[1].keys():\n",
    "    print(key)"
   ]
  },
  {
   "cell_type": "code",
   "execution_count": 6,
   "metadata": {},
   "outputs": [],
   "source": [
    "# create an empty list to data, this will be used to convert to data frame\n",
    "list_columns = []"
   ]
  },
  {
   "cell_type": "code",
   "execution_count": 7,
   "metadata": {},
   "outputs": [],
   "source": [
    "# create a for loop to loop through the json data \n",
    "# create an empty list for the rows data\n",
    "# append the json data required to your inner empty list \n",
    "# create another empty list for the ingredients name. Ingredients will be convert into a list then append \n",
    "# ... to the row array\n",
    "# lastly, append all list to list_columns\n",
    "for method in data:\n",
    "    row_array = []\n",
    "    row_array.append(method['name'])\n",
    "    row_array.append(method['food_pairing'])\n",
    "    ingredients_list = []\n",
    "    for name in method['ingredients']['malt']:\n",
    "        for k,v in name.items():\n",
    "            if k == 'name':\n",
    "                ingredients_list.append(v)\n",
    "    row_array.append(ingredients_list)\n",
    "    list_columns.append(row_array)"
   ]
  },
  {
   "cell_type": "code",
   "execution_count": 8,
   "metadata": {},
   "outputs": [],
   "source": [
    "# convert list_columns to data frame with headers\n",
    "df = pd.DataFrame(list_columns, columns =['Beer_Name','Food_Pairing', 'Ingredients'])"
   ]
  },
  {
   "cell_type": "code",
   "execution_count": 9,
   "metadata": {},
   "outputs": [
    {
     "data": {
      "text/html": [
       "<div>\n",
       "<style scoped>\n",
       "    .dataframe tbody tr th:only-of-type {\n",
       "        vertical-align: middle;\n",
       "    }\n",
       "\n",
       "    .dataframe tbody tr th {\n",
       "        vertical-align: top;\n",
       "    }\n",
       "\n",
       "    .dataframe thead th {\n",
       "        text-align: right;\n",
       "    }\n",
       "</style>\n",
       "<table border=\"1\" class=\"dataframe\">\n",
       "  <thead>\n",
       "    <tr style=\"text-align: right;\">\n",
       "      <th></th>\n",
       "      <th>Beer_Name</th>\n",
       "      <th>Food_Pairing</th>\n",
       "      <th>Ingredients</th>\n",
       "    </tr>\n",
       "  </thead>\n",
       "  <tbody>\n",
       "    <tr>\n",
       "      <th>0</th>\n",
       "      <td>India Session Lager - Prototype Challenge</td>\n",
       "      <td>[Tomato and rosemary palmiers, Bratwurst with ...</td>\n",
       "      <td>[Pilsner, Dextrin Malt]</td>\n",
       "    </tr>\n",
       "    <tr>\n",
       "      <th>1</th>\n",
       "      <td>Hopped-Up Brown Ale - Prototype Challenge</td>\n",
       "      <td>[Butternut squash and sage soup, Roast beef an...</td>\n",
       "      <td>[Extra Pale, Flaked Oats, Brown, Crystal 150, ...</td>\n",
       "    </tr>\n",
       "    <tr>\n",
       "      <th>2</th>\n",
       "      <td>Comet</td>\n",
       "      <td>[Margherita pizza with chili flakes, Spicy Tha...</td>\n",
       "      <td>[Extra Pale, Caramalt, Dark Crystal]</td>\n",
       "    </tr>\n",
       "    <tr>\n",
       "      <th>3</th>\n",
       "      <td>Baby Saison - B-Sides</td>\n",
       "      <td>[Pork chop with rosemary chips, Steak tartare,...</td>\n",
       "      <td>[Pilsner, Munich, Amber]</td>\n",
       "    </tr>\n",
       "    <tr>\n",
       "      <th>4</th>\n",
       "      <td>Santa Paws</td>\n",
       "      <td>[French onion soup, Braised pheasant, Caramel ...</td>\n",
       "      <td>[Extra Pale, Munich, Dark Crystal, Wheat, Flak...</td>\n",
       "    </tr>\n",
       "    <tr>\n",
       "      <th>...</th>\n",
       "      <td>...</td>\n",
       "      <td>...</td>\n",
       "      <td>...</td>\n",
       "    </tr>\n",
       "    <tr>\n",
       "      <th>75</th>\n",
       "      <td>Hoppy Christmas</td>\n",
       "      <td>[Spiced cranberry turkey, Sriracha covered bru...</td>\n",
       "      <td>[Extra Pale, Caramalt, Dark Crystal]</td>\n",
       "    </tr>\n",
       "    <tr>\n",
       "      <th>76</th>\n",
       "      <td>Edge</td>\n",
       "      <td>[Lamb and root vegetable stew, Warm goats chee...</td>\n",
       "      <td>[Extra Pale, Wheat, Crystal, Roasted Barley, C...</td>\n",
       "    </tr>\n",
       "    <tr>\n",
       "      <th>77</th>\n",
       "      <td>Hello My Name Is Zé (w/ 2Cabeças)</td>\n",
       "      <td>[Grilled lamb chops with a fruit reduction, Gi...</td>\n",
       "      <td>[Extra Pale, Caramalt]</td>\n",
       "    </tr>\n",
       "    <tr>\n",
       "      <th>78</th>\n",
       "      <td>Black Tokyo Horizon (w/Nøgne Ø &amp; Mikkeller)</td>\n",
       "      <td>[Truffle oil filet mignon, Sweet sticky beef b...</td>\n",
       "      <td>[Extra Pale, Carafa Special Malt Type 1, Flake...</td>\n",
       "    </tr>\n",
       "    <tr>\n",
       "      <th>79</th>\n",
       "      <td>Restorative Beverage For Invalids And Convales...</td>\n",
       "      <td>[Habanero spicy chicken wings with ranch sauce...</td>\n",
       "      <td>[Maris Otter Extra Pale, White Cane Sugar]</td>\n",
       "    </tr>\n",
       "  </tbody>\n",
       "</table>\n",
       "<p>80 rows × 3 columns</p>\n",
       "</div>"
      ],
      "text/plain": [
       "                                            Beer_Name  \\\n",
       "0           India Session Lager - Prototype Challenge   \n",
       "1           Hopped-Up Brown Ale - Prototype Challenge   \n",
       "2                                               Comet   \n",
       "3                               Baby Saison - B-Sides   \n",
       "4                                          Santa Paws   \n",
       "..                                                ...   \n",
       "75                                    Hoppy Christmas   \n",
       "76                                               Edge   \n",
       "77                Hello My Name Is Zé (w/ 2Cabeças)   \n",
       "78        Black Tokyo Horizon (w/Nøgne Ø & Mikkeller)   \n",
       "79  Restorative Beverage For Invalids And Convales...   \n",
       "\n",
       "                                         Food_Pairing  \\\n",
       "0   [Tomato and rosemary palmiers, Bratwurst with ...   \n",
       "1   [Butternut squash and sage soup, Roast beef an...   \n",
       "2   [Margherita pizza with chili flakes, Spicy Tha...   \n",
       "3   [Pork chop with rosemary chips, Steak tartare,...   \n",
       "4   [French onion soup, Braised pheasant, Caramel ...   \n",
       "..                                                ...   \n",
       "75  [Spiced cranberry turkey, Sriracha covered bru...   \n",
       "76  [Lamb and root vegetable stew, Warm goats chee...   \n",
       "77  [Grilled lamb chops with a fruit reduction, Gi...   \n",
       "78  [Truffle oil filet mignon, Sweet sticky beef b...   \n",
       "79  [Habanero spicy chicken wings with ranch sauce...   \n",
       "\n",
       "                                          Ingredients  \n",
       "0                             [Pilsner, Dextrin Malt]  \n",
       "1   [Extra Pale, Flaked Oats, Brown, Crystal 150, ...  \n",
       "2                [Extra Pale, Caramalt, Dark Crystal]  \n",
       "3                            [Pilsner, Munich, Amber]  \n",
       "4   [Extra Pale, Munich, Dark Crystal, Wheat, Flak...  \n",
       "..                                                ...  \n",
       "75               [Extra Pale, Caramalt, Dark Crystal]  \n",
       "76  [Extra Pale, Wheat, Crystal, Roasted Barley, C...  \n",
       "77                             [Extra Pale, Caramalt]  \n",
       "78  [Extra Pale, Carafa Special Malt Type 1, Flake...  \n",
       "79         [Maris Otter Extra Pale, White Cane Sugar]  \n",
       "\n",
       "[80 rows x 3 columns]"
      ]
     },
     "execution_count": 9,
     "metadata": {},
     "output_type": "execute_result"
    }
   ],
   "source": [
    "# check dataframe\n",
    "df"
   ]
  },
  {
   "cell_type": "code",
   "execution_count": null,
   "metadata": {},
   "outputs": [],
   "source": []
  },
  {
   "cell_type": "code",
   "execution_count": null,
   "metadata": {},
   "outputs": [],
   "source": []
  },
  {
   "cell_type": "code",
   "execution_count": null,
   "metadata": {},
   "outputs": [],
   "source": []
  }
 ],
 "metadata": {
  "kernelspec": {
   "display_name": "Python 3",
   "language": "python",
   "name": "python3"
  },
  "language_info": {
   "codemirror_mode": {
    "name": "ipython",
    "version": 3
   },
   "file_extension": ".py",
   "mimetype": "text/x-python",
   "name": "python",
   "nbconvert_exporter": "python",
   "pygments_lexer": "ipython3",
   "version": "3.7.6"
  }
 },
 "nbformat": 4,
 "nbformat_minor": 4
}
